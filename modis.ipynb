{
 "cells": [
  {
   "cell_type": "code",
   "execution_count": 1,
   "metadata": {},
   "outputs": [],
   "source": [
    "import ee\n",
    "import time\n",
    "import sys\n",
    "from unidecode import unidecode\n",
    "import argparse\n",
    "import os.path"
   ]
  },
  {
   "cell_type": "code",
   "execution_count": 2,
   "metadata": {},
   "outputs": [],
   "source": [
    "IMG_COLLECTIONS = ['MODIS/MOD09A1', 'MODIS/006/MYD11A2', 'MODIS/006/MCD12Q1']\n",
    "IMG_START_DATES = ['2010-02-24', '2010-07-31', '2010-01-01']\n",
    "IMG_END_DATES = ['2016-12-31', '2016-12-31', '2016-12-31']\n",
    "IMG_COLLECTION_BANDS = [[0, 1, 2, 3, 4, 5, 6], [0, 4], [0]]\n"
   ]
  },
  {
   "cell_type": "code",
   "execution_count": 3,
   "metadata": {},
   "outputs": [],
   "source": [
    "USA_SOY_FIPS_CODES = {\n",
    "    \"29\": \"MO\", \"20\": \"KS\", \"31\": \"NE\", \"19\": \"IA\", \"38\": \"ND\", \"46\": \"SD\",\n",
    "    \"27\": \"MN\", \"05\": \"AR\", \"17\": \"IL\", \"18\": \"IN\", \"39\": \"OH\"\n",
    "}\n",
    "\n",
    "CLEAN_NAME = lambda r, l: unidecode(r.get('properties').get(l)).lower().translate(str.maketrans('','',\"'()/&-\")).strip()\n",
    "\n",
    "GET_FIPS = lambda r, l: USA_SOY_FIPS_CODES[r.get('properties').get(l)].lower()\n"
   ]
  },
  {
   "cell_type": "code",
   "execution_count": 4,
   "metadata": {},
   "outputs": [],
   "source": [
    "def appendBand(current, previous):\n",
    "    # Rename the band\n",
    "    previous=ee.Image(previous)\n",
    "    current = current.select(IMG_COLLECTION_BANDS[0])\n",
    "    # Append it to the result (Note: only return current item on first element/iteration)\n",
    "    accum = ee.Algorithms.If(ee.Algorithms.IsEqual(previous,None), current, previous.addBands(ee.Image(current)))\n",
    "    # Return the accumulation\n",
    "    return accum\n",
    "\n",
    "def export_to_drive(img, fname, folder, expregion, eeuser=None, scale=500):\n",
    "  expcoord = expregion.geometry().coordinates().getInfo()[0]\n",
    "  \n",
    "  expconfig = dict(description=fname, folder=folder, fileNamePrefix=fname, dimensions=None, region=expcoord,\n",
    "                   scale=scale, crs='EPSG:4326', crsTransform=None, maxPixels=1e13)\n",
    "  task = ee.batch.Export.image.toDrive(image=img.clip(expregion), **expconfig)\n",
    "  task.start()\n",
    "  while task.status()['state'] == 'RUNNING':\n",
    "    print (\"Running...\")\n",
    "    time.sleep(10)\n",
    "  print('Done.', task.status())"
   ]
  },
  {
   "cell_type": "code",
   "execution_count": 5,
   "metadata": {},
   "outputs": [],
   "source": [
    "image_collection = IMG_COLLECTIONS[0]\n",
    "start_date = IMG_START_DATES[0]\n",
    "end_date = IMG_END_DATES[0]\n",
    "ftr_collection = 'users/nikhilarundesai/US_Counties'\n",
    "boundary_filter =  [-80, 32, -104.5, 49]"
   ]
  },
  {
   "cell_type": "code",
   "execution_count": 6,
   "metadata": {},
   "outputs": [],
   "source": [
    "ee.Initialize()\n",
    "county_region = ee.FeatureCollection(ftr_collection)\n",
    "\n",
    "imgcoll = ee.ImageCollection(image_collection) \\\n",
    "    .filterBounds(ee.Geometry.Rectangle(boundary_filter))\\\n",
    "    .filterDate(start_date,end_date)\n",
    "img=imgcoll.iterate(appendBand)\n",
    "img=ee.Image(img)"
   ]
  },
  {
   "cell_type": "code",
   "execution_count": 7,
   "metadata": {},
   "outputs": [],
   "source": [
    "feature_list = county_region.toList(1e5)\n",
    "feature_list_computed = feature_list.getInfo()"
   ]
  },
  {
   "cell_type": "code",
   "execution_count": null,
   "metadata": {},
   "outputs": [],
   "source": [
    "count_already_downloaded = 0\n",
    "count_filtered = 0\n",
    "for idx, region in enumerate(feature_list_computed):\n",
    "    if not (region.get('properties').get('STATEFP') in USA_SOY_FIPS_CODES):\n",
    "        count_filtered += 1\n",
    "        continue\n",
    "\n",
    "    subunit_key = CLEAN_NAME(region, 'NAME') + \"-\" + GET_FIPS(region, 'STATEFP')\n",
    "    file_name = 'usa' + '_' + 'sat' + '_' + subunit_key + \"_\" + start_date + \"_\" + end_date\n",
    "    \n",
    "    export_to_drive(img, file_name, 'satellite_dataset', ee.Feature(region), scale= 500)\n",
    "\n",
    "print ('Ordered', len(feature_list_computed)-count_filtered, 'new tifs from GEE')\n",
    "print ('Filtered', count_filtered)\n",
    "\n",
    "\n"
   ]
  }
 ],
 "metadata": {
  "kernelspec": {
   "display_name": "RecSysFramework",
   "language": "python",
   "name": "python3"
  },
  "language_info": {
   "codemirror_mode": {
    "name": "ipython",
    "version": 3
   },
   "file_extension": ".py",
   "mimetype": "text/x-python",
   "name": "python",
   "nbconvert_exporter": "python",
   "pygments_lexer": "ipython3",
   "version": "3.8.13"
  },
  "orig_nbformat": 4,
  "vscode": {
   "interpreter": {
    "hash": "b261f49cf4d72dbfc58792abd0b60701ed878094bef7a4d84592b1a8931531b1"
   }
  }
 },
 "nbformat": 4,
 "nbformat_minor": 2
}
